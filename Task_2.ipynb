{
  "nbformat": 4,
  "nbformat_minor": 0,
  "metadata": {
    "colab": {
      "provenance": []
    },
    "kernelspec": {
      "name": "python3",
      "display_name": "Python 3"
    },
    "language_info": {
      "name": "python"
    }
  },
  "cells": [
    {
      "cell_type": "code",
      "execution_count": null,
      "metadata": {
        "colab": {
          "base_uri": "https://localhost:8080/"
        },
        "id": "0zYuC28Uvz7q",
        "outputId": "2181f444-37f7-44f8-abf4-7485f83d1141"
      },
      "outputs": [
        {
          "output_type": "stream",
          "name": "stdout",
          "text": [
            "Collecting pennylane\n",
            "  Downloading PennyLane-0.32.0-py3-none-any.whl (1.5 MB)\n",
            "\u001b[2K     \u001b[90m━━━━━━━━━━━━━━━━━━━━━━━━━━━━━━━━━━━━━━━━\u001b[0m \u001b[32m1.5/1.5 MB\u001b[0m \u001b[31m13.9 MB/s\u001b[0m eta \u001b[36m0:00:00\u001b[0m\n",
            "\u001b[?25hRequirement already satisfied: numpy<1.24 in /usr/local/lib/python3.10/dist-packages (from pennylane) (1.23.5)\n",
            "Requirement already satisfied: scipy in /usr/local/lib/python3.10/dist-packages (from pennylane) (1.11.2)\n",
            "Requirement already satisfied: networkx in /usr/local/lib/python3.10/dist-packages (from pennylane) (3.1)\n",
            "Collecting rustworkx (from pennylane)\n",
            "  Downloading rustworkx-0.13.1-cp310-cp310-manylinux_2_17_x86_64.manylinux2014_x86_64.whl (2.0 MB)\n",
            "\u001b[2K     \u001b[90m━━━━━━━━━━━━━━━━━━━━━━━━━━━━━━━━━━━━━━━━\u001b[0m \u001b[32m2.0/2.0 MB\u001b[0m \u001b[31m24.9 MB/s\u001b[0m eta \u001b[36m0:00:00\u001b[0m\n",
            "\u001b[?25hCollecting autograd<=1.5 (from pennylane)\n",
            "  Downloading autograd-1.5-py3-none-any.whl (48 kB)\n",
            "\u001b[2K     \u001b[90m━━━━━━━━━━━━━━━━━━━━━━━━━━━━━━━━━━━━━━━━\u001b[0m \u001b[32m48.9/48.9 kB\u001b[0m \u001b[31m5.9 MB/s\u001b[0m eta \u001b[36m0:00:00\u001b[0m\n",
            "\u001b[?25hRequirement already satisfied: toml in /usr/local/lib/python3.10/dist-packages (from pennylane) (0.10.2)\n",
            "Requirement already satisfied: appdirs in /usr/local/lib/python3.10/dist-packages (from pennylane) (1.4.4)\n",
            "Collecting semantic-version>=2.7 (from pennylane)\n",
            "  Downloading semantic_version-2.10.0-py2.py3-none-any.whl (15 kB)\n",
            "Collecting autoray>=0.3.1 (from pennylane)\n",
            "  Downloading autoray-0.6.6-py3-none-any.whl (54 kB)\n",
            "\u001b[2K     \u001b[90m━━━━━━━━━━━━━━━━━━━━━━━━━━━━━━━━━━━━━━━━\u001b[0m \u001b[32m54.7/54.7 kB\u001b[0m \u001b[31m6.2 MB/s\u001b[0m eta \u001b[36m0:00:00\u001b[0m\n",
            "\u001b[?25hRequirement already satisfied: cachetools in /usr/local/lib/python3.10/dist-packages (from pennylane) (5.3.1)\n",
            "Collecting pennylane-lightning>=0.32 (from pennylane)\n",
            "  Downloading PennyLane_Lightning-0.32.0-cp310-cp310-manylinux_2_17_x86_64.manylinux2014_x86_64.whl (13.6 MB)\n",
            "\u001b[2K     \u001b[90m━━━━━━━━━━━━━━━━━━━━━━━━━━━━━━━━━━━━━━━━\u001b[0m \u001b[32m13.6/13.6 MB\u001b[0m \u001b[31m56.4 MB/s\u001b[0m eta \u001b[36m0:00:00\u001b[0m\n",
            "\u001b[?25hRequirement already satisfied: requests in /usr/local/lib/python3.10/dist-packages (from pennylane) (2.31.0)\n",
            "Requirement already satisfied: typing-extensions in /usr/local/lib/python3.10/dist-packages (from pennylane) (4.5.0)\n",
            "Requirement already satisfied: future>=0.15.2 in /usr/local/lib/python3.10/dist-packages (from autograd<=1.5->pennylane) (0.18.3)\n",
            "Requirement already satisfied: charset-normalizer<4,>=2 in /usr/local/lib/python3.10/dist-packages (from requests->pennylane) (3.2.0)\n",
            "Requirement already satisfied: idna<4,>=2.5 in /usr/local/lib/python3.10/dist-packages (from requests->pennylane) (3.4)\n",
            "Requirement already satisfied: urllib3<3,>=1.21.1 in /usr/local/lib/python3.10/dist-packages (from requests->pennylane) (2.0.4)\n",
            "Requirement already satisfied: certifi>=2017.4.17 in /usr/local/lib/python3.10/dist-packages (from requests->pennylane) (2023.7.22)\n",
            "Installing collected packages: semantic-version, rustworkx, autoray, autograd, pennylane-lightning, pennylane\n",
            "  Attempting uninstall: autograd\n",
            "    Found existing installation: autograd 1.6.2\n",
            "    Uninstalling autograd-1.6.2:\n",
            "      Successfully uninstalled autograd-1.6.2\n",
            "Successfully installed autograd-1.5 autoray-0.6.6 pennylane-0.32.0 pennylane-lightning-0.32.0 rustworkx-0.13.1 semantic-version-2.10.0\n"
          ]
        }
      ],
      "source": [
        "!pip install pennylane"
      ]
    },
    {
      "cell_type": "markdown",
      "source": [
        "Importing Libraries"
      ],
      "metadata": {
        "id": "DlvDsdy4HGH9"
      }
    },
    {
      "cell_type": "code",
      "source": [
        "import pennylane as qml\n",
        "import numpy as np\n",
        "import math"
      ],
      "metadata": {
        "id": "vE_4u3Se2oVp"
      },
      "execution_count": null,
      "outputs": []
    },
    {
      "cell_type": "markdown",
      "source": [
        "Function for position of X-Gates in Q-RAM Structure"
      ],
      "metadata": {
        "id": "qtsjx8dlHJAS"
      }
    },
    {
      "cell_type": "code",
      "source": [
        "#number of Qubits provided as input\n",
        "def where_to_apply_x(bin_number_length: int):\n",
        "\n",
        "    #storing qubit positions for appending X-Gate each indices\n",
        "    indices=[]\n",
        "\n",
        "    #number of datapoints from qubits\n",
        "    powers_of_two = 2 ** np.arange(bin_number_length)\n",
        "\n",
        "    #for each datapoint positons we try to find out possible qubits to include a X-Gate\n",
        "    for pos in range(2**bin_number_length):\n",
        "\n",
        "        #store qubit positions for each indices of datapoints\n",
        "        temp=[]\n",
        "\n",
        "        #for each indices check the bit diiference and append the X-Gate\n",
        "        for ind, v in enumerate(powers_of_two):\n",
        "            if v & (pos ^ (pos - 1)) == v:\n",
        "                temp.append(ind)\n",
        "        indices.append(temp)\n",
        "\n",
        "    return indices"
      ],
      "metadata": {
        "id": "Bottz4fU349S"
      },
      "execution_count": null,
      "outputs": []
    },
    {
      "cell_type": "markdown",
      "source": [
        "Function for finding negative number"
      ],
      "metadata": {
        "id": "pntROuz2-PHN"
      }
    },
    {
      "cell_type": "code",
      "source": [
        "def find_negative_numbers(list_number:list[int]):\n",
        "\n",
        "    #find number of qubits w.r.t. number of elements in the list\n",
        "    num_qubits = math.ceil(math.log2(len(list_number)))\n",
        "\n",
        "    #initilize device with an extra ancilla qubit\n",
        "    dev = qml.device(\"default.qubit\", wires=num_qubits+1, shots=1024)\n",
        "\n",
        "    #initialize the wires\n",
        "    wires = list(range(num_qubits))\n",
        "\n",
        "    #create circuit\n",
        "    @qml.qnode(dev)\n",
        "    def circuit(list_number):\n",
        "\n",
        "        #apply hadamard get on each element\n",
        "        for wire in wires:\n",
        "            qml.Hadamard(wires=wire)\n",
        "\n",
        "        #get the X-Gates position for corresponding qubits\n",
        "        where_x = where_to_apply_x(num_qubits)\n",
        "\n",
        "        #for every index in the number, apply the X-Gates for accessing the index of the list,\n",
        "        #if the index value <0, do Flip, else nothing\n",
        "        for i in range(len(list_number)):\n",
        "            for j in where_x[i]:\n",
        "                qml.PauliX(j)\n",
        "            if list_number[i]<0:\n",
        "                qml.ctrl(qml.PauliX, control=wires, control_values=[1]*len(wires))(wires=len(wires))\n",
        "\n",
        "        #return counts of the circuit w.r.t ancilla qubit only\n",
        "        return qml.counts(wires=len(wires))\n",
        "\n",
        "    #get the counts\n",
        "    counts=circuit(l)\n",
        "\n",
        "    #if the count result contains 1, then there is -ve number\n",
        "    if '1' in counts.keys():\n",
        "        return True\n",
        "    else:\n",
        "        return False"
      ],
      "metadata": {
        "id": "N_LyvDNt2jc-"
      },
      "execution_count": null,
      "outputs": []
    },
    {
      "cell_type": "code",
      "source": [
        "lists=[\n",
        "    [1, 2, 3, 4],\n",
        "    [1, 1, 1, 1],\n",
        "    [0, 0, 0, 0],\n",
        "    [-1, 0, 2, 3],\n",
        "    [-2, 0, -2, 3],\n",
        "    [-1, -4, -3, 4],\n",
        "    [-1, -2, -3, -6],\n",
        "    [-4.5, 2, 4, 8],\n",
        "    [4,5, 6, 7, -8, 9, 2.5]\n",
        "]\n",
        "for l in lists:\n",
        "    print(find_negative_numbers(l))\n"
      ],
      "metadata": {
        "colab": {
          "base_uri": "https://localhost:8080/"
        },
        "id": "GpmZ4q1j4IQ_",
        "outputId": "93a5f420-f0aa-4a4e-8a31-f4c0e654def1"
      },
      "execution_count": null,
      "outputs": [
        {
          "output_type": "stream",
          "name": "stdout",
          "text": [
            "False\n",
            "False\n",
            "False\n",
            "True\n",
            "True\n",
            "True\n",
            "True\n",
            "True\n",
            "True\n"
          ]
        }
      ]
    },
    {
      "cell_type": "markdown",
      "source": [
        "Reason for Validation for all numbers\n",
        "\n",
        "In this circuit, total number of qubits is log(n)+1, where n is number of elements. For this circuit, we are not directly checking the value of the element, rather than we just check the sign, if the sign is negative, we just flip the ancilla qubit to determine, that there is a negative sign, so we can confirm, So in this case, it'll be applicable in any number."
      ],
      "metadata": {
        "id": "VJ2WifrqSXaY"
      }
    },
    {
      "cell_type": "code",
      "source": [],
      "metadata": {
        "id": "NIMAcQMJ4JkS"
      },
      "execution_count": null,
      "outputs": []
    }
  ]
}