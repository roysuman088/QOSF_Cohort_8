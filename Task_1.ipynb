{
  "nbformat": 4,
  "nbformat_minor": 0,
  "metadata": {
    "colab": {
      "provenance": []
    },
    "kernelspec": {
      "name": "python3",
      "display_name": "Python 3"
    },
    "language_info": {
      "name": "python"
    }
  },
  "cells": [
    {
      "cell_type": "code",
      "execution_count": 1,
      "metadata": {
        "colab": {
          "base_uri": "https://localhost:8080/"
        },
        "id": "i5dpV7OgUyz_",
        "outputId": "449d120c-fe8f-494c-c597-5f1fb3561b70"
      },
      "outputs": [
        {
          "output_type": "stream",
          "name": "stdout",
          "text": [
            "Collecting pennylane\n",
            "  Downloading PennyLane-0.32.0-py3-none-any.whl (1.5 MB)\n",
            "\u001b[2K     \u001b[90m━━━━━━━━━━━━━━━━━━━━━━━━━━━━━━━━━━━━━━━━\u001b[0m \u001b[32m1.5/1.5 MB\u001b[0m \u001b[31m15.3 MB/s\u001b[0m eta \u001b[36m0:00:00\u001b[0m\n",
            "\u001b[?25hRequirement already satisfied: numpy<1.24 in /usr/local/lib/python3.10/dist-packages (from pennylane) (1.23.5)\n",
            "Requirement already satisfied: scipy in /usr/local/lib/python3.10/dist-packages (from pennylane) (1.11.3)\n",
            "Requirement already satisfied: networkx in /usr/local/lib/python3.10/dist-packages (from pennylane) (3.1)\n",
            "Collecting rustworkx (from pennylane)\n",
            "  Downloading rustworkx-0.13.2-cp310-cp310-manylinux_2_17_x86_64.manylinux2014_x86_64.whl (2.0 MB)\n",
            "\u001b[2K     \u001b[90m━━━━━━━━━━━━━━━━━━━━━━━━━━━━━━━━━━━━━━━━\u001b[0m \u001b[32m2.0/2.0 MB\u001b[0m \u001b[31m66.7 MB/s\u001b[0m eta \u001b[36m0:00:00\u001b[0m\n",
            "\u001b[?25hCollecting autograd<=1.5 (from pennylane)\n",
            "  Downloading autograd-1.5-py3-none-any.whl (48 kB)\n",
            "\u001b[2K     \u001b[90m━━━━━━━━━━━━━━━━━━━━━━━━━━━━━━━━━━━━━━━━\u001b[0m \u001b[32m48.9/48.9 kB\u001b[0m \u001b[31m4.5 MB/s\u001b[0m eta \u001b[36m0:00:00\u001b[0m\n",
            "\u001b[?25hRequirement already satisfied: toml in /usr/local/lib/python3.10/dist-packages (from pennylane) (0.10.2)\n",
            "Requirement already satisfied: appdirs in /usr/local/lib/python3.10/dist-packages (from pennylane) (1.4.4)\n",
            "Collecting semantic-version>=2.7 (from pennylane)\n",
            "  Downloading semantic_version-2.10.0-py2.py3-none-any.whl (15 kB)\n",
            "Collecting autoray>=0.3.1 (from pennylane)\n",
            "  Downloading autoray-0.6.6-py3-none-any.whl (54 kB)\n",
            "\u001b[2K     \u001b[90m━━━━━━━━━━━━━━━━━━━━━━━━━━━━━━━━━━━━━━━━\u001b[0m \u001b[32m54.7/54.7 kB\u001b[0m \u001b[31m6.1 MB/s\u001b[0m eta \u001b[36m0:00:00\u001b[0m\n",
            "\u001b[?25hRequirement already satisfied: cachetools in /usr/local/lib/python3.10/dist-packages (from pennylane) (5.3.1)\n",
            "Collecting pennylane-lightning>=0.32 (from pennylane)\n",
            "  Downloading PennyLane_Lightning-0.32.0-cp310-cp310-manylinux_2_17_x86_64.manylinux2014_x86_64.whl (13.6 MB)\n",
            "\u001b[2K     \u001b[90m━━━━━━━━━━━━━━━━━━━━━━━━━━━━━━━━━━━━━━━━\u001b[0m \u001b[32m13.6/13.6 MB\u001b[0m \u001b[31m79.2 MB/s\u001b[0m eta \u001b[36m0:00:00\u001b[0m\n",
            "\u001b[?25hRequirement already satisfied: requests in /usr/local/lib/python3.10/dist-packages (from pennylane) (2.31.0)\n",
            "Requirement already satisfied: typing-extensions in /usr/local/lib/python3.10/dist-packages (from pennylane) (4.5.0)\n",
            "Requirement already satisfied: future>=0.15.2 in /usr/local/lib/python3.10/dist-packages (from autograd<=1.5->pennylane) (0.18.3)\n",
            "Requirement already satisfied: charset-normalizer<4,>=2 in /usr/local/lib/python3.10/dist-packages (from requests->pennylane) (3.2.0)\n",
            "Requirement already satisfied: idna<4,>=2.5 in /usr/local/lib/python3.10/dist-packages (from requests->pennylane) (3.4)\n",
            "Requirement already satisfied: urllib3<3,>=1.21.1 in /usr/local/lib/python3.10/dist-packages (from requests->pennylane) (2.0.5)\n",
            "Requirement already satisfied: certifi>=2017.4.17 in /usr/local/lib/python3.10/dist-packages (from requests->pennylane) (2023.7.22)\n",
            "Installing collected packages: semantic-version, rustworkx, autoray, autograd, pennylane-lightning, pennylane\n",
            "  Attempting uninstall: autograd\n",
            "    Found existing installation: autograd 1.6.2\n",
            "    Uninstalling autograd-1.6.2:\n",
            "      Successfully uninstalled autograd-1.6.2\n",
            "Successfully installed autograd-1.5 autoray-0.6.6 pennylane-0.32.0 pennylane-lightning-0.32.0 rustworkx-0.13.2 semantic-version-2.10.0\n"
          ]
        }
      ],
      "source": [
        "!pip install pennylane"
      ]
    },
    {
      "cell_type": "markdown",
      "source": [
        "Importing Libraries"
      ],
      "metadata": {
        "id": "-rVP6sYkp-CB"
      }
    },
    {
      "cell_type": "code",
      "source": [
        "import pennylane as qml\n",
        "import numpy as np\n",
        "import math"
      ],
      "metadata": {
        "id": "l3pOVul3U1zS"
      },
      "execution_count": 2,
      "outputs": []
    },
    {
      "cell_type": "markdown",
      "source": [
        "Define Oracle"
      ],
      "metadata": {
        "id": "TyVFSiokp_3-"
      }
    },
    {
      "cell_type": "code",
      "source": [
        "def oracle(wires, n, num_list):\n",
        "\n",
        "    #define the Matrix\n",
        "    matrix=np.identity(2**len(wires))\n",
        "\n",
        "    #flip the required state\n",
        "    for i in range(len(num_list)):\n",
        "        if n==num_list[i]:\n",
        "            matrix[i][i]=-1\n",
        "            break\n",
        "\n",
        "    #make the matrix as gate\n",
        "    qml.QubitUnitary(matrix, wires=wires)"
      ],
      "metadata": {
        "id": "GDmCGsbiAdkC"
      },
      "execution_count": 3,
      "outputs": []
    },
    {
      "cell_type": "markdown",
      "source": [
        "Define Superpositon state"
      ],
      "metadata": {
        "id": "5T8_cxLrqObe"
      }
    },
    {
      "cell_type": "code",
      "source": [
        "def equal_superposition(wires):\n",
        "    for wire in wires:\n",
        "        qml.Hadamard(wires=wire)"
      ],
      "metadata": {
        "id": "JiqwXBmeAiUb"
      },
      "execution_count": 4,
      "outputs": []
    },
    {
      "cell_type": "code",
      "source": [
        "def find_number(num_list, n):\n",
        "\n",
        "    #define number of qubits\n",
        "    NUM_QUBITS = math.ceil(math.log2(len(num_list)))\n",
        "\n",
        "    len_list=len(num_list)\n",
        "    wires = list(range(NUM_QUBITS))\n",
        "\n",
        "    #define device\n",
        "    dev = qml.device(\"default.qubit\", wires=NUM_QUBITS)\n",
        "\n",
        "    #define Circuit\n",
        "    @qml.qnode(dev)\n",
        "    def circuit():\n",
        "        #number of iteration to perform grovers search\n",
        "        iterations = int(np.round(np.sqrt(len_list))*np.pi/4)\n",
        "\n",
        "        #initial state preparation\n",
        "        equal_superposition(wires)\n",
        "\n",
        "        #grover's iterator\n",
        "        for _ in range(iterations):\n",
        "            oracle(wires, n, num_list)\n",
        "            qml.templates.GroverOperator(wires)\n",
        "\n",
        "        #return probabilities\n",
        "        return qml.probs(wires=wires)\n",
        "\n",
        "    res=circuit()\n",
        "    #get the highest probability index and value\n",
        "    m=np.argmax(res)\n",
        "    v=np.max(res)\n",
        "\n",
        "    #if the probability value is not equal to another, return the index else -1\n",
        "    if v==res[0] and v==res[-1]:\n",
        "        return -1\n",
        "    else:\n",
        "        return m"
      ],
      "metadata": {
        "id": "-3-E91dTWER6"
      },
      "execution_count": 5,
      "outputs": []
    },
    {
      "cell_type": "code",
      "source": [
        "def find_the_primes_numbers(number_1,number_2):\n",
        "\n",
        "    #for each item in the list, check the operation, if found return index else return \"Not Found\"\n",
        "    for i in range(len(number_2)):\n",
        "        if find_number(number_2,number_1-number_2[i])>=0:\n",
        "            return number_2[i],number_1-number_2[i]\n",
        "    return \"Not Found\""
      ],
      "metadata": {
        "id": "MfVztUbrWKLo"
      },
      "execution_count": 6,
      "outputs": []
    },
    {
      "cell_type": "code",
      "source": [
        "find_the_primes_numbers(18,[2,3,5,7,11,13])"
      ],
      "metadata": {
        "colab": {
          "base_uri": "https://localhost:8080/"
        },
        "id": "Dum7_ZHbG4GK",
        "outputId": "b90ceb0c-9ae3-437f-9bca-ed2c105d10b9"
      },
      "execution_count": 7,
      "outputs": [
        {
          "output_type": "execute_result",
          "data": {
            "text/plain": [
              "(5, 13)"
            ]
          },
          "metadata": {},
          "execution_count": 7
        }
      ]
    },
    {
      "cell_type": "markdown",
      "source": [
        "In this case, we are using only log(n) qubits where n is the length of the list. In this case, we only trying to find that number in the list, which is a result of substraction of a the given number and the number we are pointing in the list. Over here, we are using grover search operation for finding the number."
      ],
      "metadata": {
        "id": "IfGVVUXWoyqY"
      }
    },
    {
      "cell_type": "code",
      "source": [],
      "metadata": {
        "id": "Xtj1ypGGpokh"
      },
      "execution_count": null,
      "outputs": []
    }
  ]
}